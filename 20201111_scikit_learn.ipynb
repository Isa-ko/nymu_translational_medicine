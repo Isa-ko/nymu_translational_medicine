{
 "cells": [
  {
   "cell_type": "code",
   "execution_count": 1,
   "metadata": {},
   "outputs": [],
   "source": [
    "import warnings\n",
    "warnings.filterwarnings('ignore')\n",
    "\n",
    "import pandas as pd \n",
    "import matplotlib.pyplot as plt\n",
    "import seaborn as sns\n",
    "import numpy as np\n",
    "\n",
    "testdf = pd.read_csv(\"test.csv\") \n",
    "traindf = pd.read_csv(\"train.csv\") \n"
   ]
  },
  {
   "cell_type": "markdown",
   "metadata": {},
   "source": [
    "### g_ssr : 血壓坐姿右手收縮壓，g_dsr : 血壓坐姿右手舒張壓，mdrug07 : 長期服用藥物高血脂藥物，\n",
    "### psick10 : 您曾患下列疾病嗎?糖尿病，psick12 : 您曾患下列疾病嗎?心臟血管疾病，pisck11 : 有無中風"
   ]
  },
  {
   "cell_type": "code",
   "execution_count": 2,
   "metadata": {
    "scrolled": true
   },
   "outputs": [
    {
     "data": {
      "text/html": [
       "<div>\n",
       "<style scoped>\n",
       "    .dataframe tbody tr th:only-of-type {\n",
       "        vertical-align: middle;\n",
       "    }\n",
       "\n",
       "    .dataframe tbody tr th {\n",
       "        vertical-align: top;\n",
       "    }\n",
       "\n",
       "    .dataframe thead th {\n",
       "        text-align: right;\n",
       "    }\n",
       "</style>\n",
       "<table border=\"1\" class=\"dataframe\">\n",
       "  <thead>\n",
       "    <tr style=\"text-align: right;\">\n",
       "      <th></th>\n",
       "      <th>pid</th>\n",
       "      <th>yr</th>\n",
       "      <th>age</th>\n",
       "      <th>g_ssr</th>\n",
       "      <th>g_dsr</th>\n",
       "      <th>mdrug07</th>\n",
       "      <th>psick10</th>\n",
       "      <th>psick12</th>\n",
       "      <th>psick11</th>\n",
       "    </tr>\n",
       "  </thead>\n",
       "  <tbody>\n",
       "    <tr>\n",
       "      <th>14266</th>\n",
       "      <td>a19k419445</td>\n",
       "      <td>1997</td>\n",
       "      <td>56.0</td>\n",
       "      <td>149.0</td>\n",
       "      <td>82.0</td>\n",
       "      <td>0.0</td>\n",
       "      <td>0.0</td>\n",
       "      <td>0.0</td>\n",
       "      <td>0.0</td>\n",
       "    </tr>\n",
       "    <tr>\n",
       "      <th>14267</th>\n",
       "      <td>a19k419445</td>\n",
       "      <td>1999</td>\n",
       "      <td>58.0</td>\n",
       "      <td>140.0</td>\n",
       "      <td>100.0</td>\n",
       "      <td>0.0</td>\n",
       "      <td>0.0</td>\n",
       "      <td>0.0</td>\n",
       "      <td>0.0</td>\n",
       "    </tr>\n",
       "    <tr>\n",
       "      <th>14268</th>\n",
       "      <td>a19k419445</td>\n",
       "      <td>2000</td>\n",
       "      <td>59.0</td>\n",
       "      <td>150.0</td>\n",
       "      <td>104.0</td>\n",
       "      <td>0.0</td>\n",
       "      <td>0.0</td>\n",
       "      <td>0.0</td>\n",
       "      <td>0.0</td>\n",
       "    </tr>\n",
       "    <tr>\n",
       "      <th>14269</th>\n",
       "      <td>a19k419445</td>\n",
       "      <td>2001</td>\n",
       "      <td>60.0</td>\n",
       "      <td>158.0</td>\n",
       "      <td>94.0</td>\n",
       "      <td>0.0</td>\n",
       "      <td>0.0</td>\n",
       "      <td>0.0</td>\n",
       "      <td>0.0</td>\n",
       "    </tr>\n",
       "    <tr>\n",
       "      <th>14270</th>\n",
       "      <td>a19k419445</td>\n",
       "      <td>2004</td>\n",
       "      <td>63.0</td>\n",
       "      <td>NaN</td>\n",
       "      <td>NaN</td>\n",
       "      <td>0.0</td>\n",
       "      <td>0.0</td>\n",
       "      <td>0.0</td>\n",
       "      <td>0.0</td>\n",
       "    </tr>\n",
       "  </tbody>\n",
       "</table>\n",
       "</div>"
      ],
      "text/plain": [
       "              pid    yr   age  g_ssr  g_dsr  mdrug07  psick10  psick12  \\\n",
       "14266  a19k419445  1997  56.0  149.0   82.0      0.0      0.0      0.0   \n",
       "14267  a19k419445  1999  58.0  140.0  100.0      0.0      0.0      0.0   \n",
       "14268  a19k419445  2000  59.0  150.0  104.0      0.0      0.0      0.0   \n",
       "14269  a19k419445  2001  60.0  158.0   94.0      0.0      0.0      0.0   \n",
       "14270  a19k419445  2004  63.0    NaN    NaN      0.0      0.0      0.0   \n",
       "\n",
       "       psick11  \n",
       "14266      0.0  \n",
       "14267      0.0  \n",
       "14268      0.0  \n",
       "14269      0.0  \n",
       "14270      0.0  "
      ]
     },
     "execution_count": 2,
     "metadata": {},
     "output_type": "execute_result"
    }
   ],
   "source": [
    "testdf.tail()\n",
    "#長期服用藥物高血脂藥物"
   ]
  },
  {
   "cell_type": "code",
   "execution_count": 3,
   "metadata": {
    "scrolled": false
   },
   "outputs": [
    {
     "data": {
      "text/plain": [
       "pid          0\n",
       "yr           0\n",
       "age          3\n",
       "g_ssr      930\n",
       "g_dsr      931\n",
       "mdrug07    106\n",
       "psick10     87\n",
       "psick12    274\n",
       "psick11     87\n",
       "dtype: int64"
      ]
     },
     "execution_count": 3,
     "metadata": {},
     "output_type": "execute_result"
    }
   ],
   "source": [
    "#計算每一個column有的空值數目\n",
    "testdf.isnull().sum()"
   ]
  },
  {
   "cell_type": "code",
   "execution_count": 8,
   "metadata": {},
   "outputs": [
    {
     "data": {
      "text/plain": [
       "pid        0\n",
       "yr         0\n",
       "age        0\n",
       "g_ssr      8\n",
       "g_dsr      8\n",
       "mdrug07    0\n",
       "psick10    0\n",
       "psick12    1\n",
       "psick11    0\n",
       "dtype: int64"
      ]
     },
     "execution_count": 8,
     "metadata": {},
     "output_type": "execute_result"
    }
   ],
   "source": [
    "pss = testdf[testdf.psick11 == 1]\n",
    "pss.isnull().sum()"
   ]
  },
  {
   "cell_type": "code",
   "execution_count": 4,
   "metadata": {
    "scrolled": false
   },
   "outputs": [],
   "source": [
    "pid = testdf['pid']\n",
    "yr = testdf['yr']\n",
    "#將欄位補上平均值\n",
    "age = testdf['age'].fillna(value = testdf['age'].mean())\n",
    "g_ssr = testdf['g_ssr'].fillna(value = testdf['g_ssr'].mean())\n",
    "g_dsr = testdf['g_dsr'].fillna(value = testdf['g_dsr'].mean())\n",
    "#將空值補上3，使空值變成另外ㄧ類\n",
    "mdrug07 = testdf['mdrug07'].fillna(3)\n",
    "psick10 = testdf['psick10'].fillna(3)\n",
    "psick12 = testdf['psick12'].fillna(3)\n",
    "psick11 = testdf['psick11'].fillna(3)\n",
    "\n",
    "#合併資料\n",
    "new_testdf = pd.concat([pid, yr, age, g_ssr, g_dsr, mdrug07, psick10, psick12, psick11], axis=1)\n",
    "#keep=last，將重複的欄位留下較後面比的資料\n",
    "dt_table = new_testdf.drop_duplicates(subset='pid', keep='last')\n",
    "dt_table.to_csv (r'export_dataframe.csv', index = False, header=True)\n"
   ]
  },
  {
   "cell_type": "code",
   "execution_count": 5,
   "metadata": {
    "scrolled": false
   },
   "outputs": [
    {
     "data": {
      "text/html": [
       "<div>\n",
       "<style scoped>\n",
       "    .dataframe tbody tr th:only-of-type {\n",
       "        vertical-align: middle;\n",
       "    }\n",
       "\n",
       "    .dataframe tbody tr th {\n",
       "        vertical-align: top;\n",
       "    }\n",
       "\n",
       "    .dataframe thead th {\n",
       "        text-align: right;\n",
       "    }\n",
       "</style>\n",
       "<table border=\"1\" class=\"dataframe\">\n",
       "  <thead>\n",
       "    <tr style=\"text-align: right;\">\n",
       "      <th></th>\n",
       "      <th>pid</th>\n",
       "      <th>yr</th>\n",
       "      <th>age</th>\n",
       "      <th>g_ssr</th>\n",
       "      <th>g_dsr</th>\n",
       "      <th>mdrug07</th>\n",
       "      <th>psick10</th>\n",
       "      <th>psick12</th>\n",
       "      <th>psick11</th>\n",
       "    </tr>\n",
       "  </thead>\n",
       "  <tbody>\n",
       "    <tr>\n",
       "      <th>0</th>\n",
       "      <td>a19k583189</td>\n",
       "      <td>2007</td>\n",
       "      <td>-1.156812</td>\n",
       "      <td>-0.466465</td>\n",
       "      <td>-1.076209</td>\n",
       "      <td>0.0</td>\n",
       "      <td>0.0</td>\n",
       "      <td>0.0</td>\n",
       "      <td>0.0</td>\n",
       "    </tr>\n",
       "    <tr>\n",
       "      <th>1</th>\n",
       "      <td>a19k005666</td>\n",
       "      <td>1998</td>\n",
       "      <td>-1.791254</td>\n",
       "      <td>-0.352054</td>\n",
       "      <td>-0.084153</td>\n",
       "      <td>0.0</td>\n",
       "      <td>0.0</td>\n",
       "      <td>0.0</td>\n",
       "      <td>0.0</td>\n",
       "    </tr>\n",
       "    <tr>\n",
       "      <th>2</th>\n",
       "      <td>a19k143055</td>\n",
       "      <td>2006</td>\n",
       "      <td>0.605526</td>\n",
       "      <td>-0.466465</td>\n",
       "      <td>-0.625275</td>\n",
       "      <td>0.0</td>\n",
       "      <td>0.0</td>\n",
       "      <td>0.0</td>\n",
       "      <td>0.0</td>\n",
       "    </tr>\n",
       "    <tr>\n",
       "      <th>3</th>\n",
       "      <td>a19k057299</td>\n",
       "      <td>2002</td>\n",
       "      <td>-1.156812</td>\n",
       "      <td>-1.152932</td>\n",
       "      <td>-1.617331</td>\n",
       "      <td>0.0</td>\n",
       "      <td>0.0</td>\n",
       "      <td>0.0</td>\n",
       "      <td>0.0</td>\n",
       "    </tr>\n",
       "    <tr>\n",
       "      <th>4</th>\n",
       "      <td>a19k211318</td>\n",
       "      <td>2006</td>\n",
       "      <td>-1.086319</td>\n",
       "      <td>-1.724988</td>\n",
       "      <td>-0.715462</td>\n",
       "      <td>0.0</td>\n",
       "      <td>0.0</td>\n",
       "      <td>0.0</td>\n",
       "      <td>0.0</td>\n",
       "    </tr>\n",
       "    <tr>\n",
       "      <th>...</th>\n",
       "      <td>...</td>\n",
       "      <td>...</td>\n",
       "      <td>...</td>\n",
       "      <td>...</td>\n",
       "      <td>...</td>\n",
       "      <td>...</td>\n",
       "      <td>...</td>\n",
       "      <td>...</td>\n",
       "      <td>...</td>\n",
       "    </tr>\n",
       "    <tr>\n",
       "      <th>6330</th>\n",
       "      <td>a19k057364</td>\n",
       "      <td>2005</td>\n",
       "      <td>0.746513</td>\n",
       "      <td>2.336608</td>\n",
       "      <td>1.539211</td>\n",
       "      <td>0.0</td>\n",
       "      <td>0.0</td>\n",
       "      <td>0.0</td>\n",
       "      <td>0.0</td>\n",
       "    </tr>\n",
       "    <tr>\n",
       "      <th>6331</th>\n",
       "      <td>a19k421291</td>\n",
       "      <td>2003</td>\n",
       "      <td>2.015396</td>\n",
       "      <td>2.965870</td>\n",
       "      <td>1.629398</td>\n",
       "      <td>0.0</td>\n",
       "      <td>1.0</td>\n",
       "      <td>0.0</td>\n",
       "      <td>0.0</td>\n",
       "    </tr>\n",
       "    <tr>\n",
       "      <th>6332</th>\n",
       "      <td>a19k284241</td>\n",
       "      <td>1999</td>\n",
       "      <td>0.394045</td>\n",
       "      <td>0.448824</td>\n",
       "      <td>0.547155</td>\n",
       "      <td>0.0</td>\n",
       "      <td>0.0</td>\n",
       "      <td>0.0</td>\n",
       "      <td>0.0</td>\n",
       "    </tr>\n",
       "    <tr>\n",
       "      <th>6333</th>\n",
       "      <td>a19k306046</td>\n",
       "      <td>1999</td>\n",
       "      <td>1.521942</td>\n",
       "      <td>0.849263</td>\n",
       "      <td>0.998090</td>\n",
       "      <td>0.0</td>\n",
       "      <td>0.0</td>\n",
       "      <td>0.0</td>\n",
       "      <td>0.0</td>\n",
       "    </tr>\n",
       "    <tr>\n",
       "      <th>6334</th>\n",
       "      <td>a19k419445</td>\n",
       "      <td>2004</td>\n",
       "      <td>1.521942</td>\n",
       "      <td>-0.025608</td>\n",
       "      <td>-0.023260</td>\n",
       "      <td>0.0</td>\n",
       "      <td>0.0</td>\n",
       "      <td>0.0</td>\n",
       "      <td>0.0</td>\n",
       "    </tr>\n",
       "  </tbody>\n",
       "</table>\n",
       "<p>6335 rows × 9 columns</p>\n",
       "</div>"
      ],
      "text/plain": [
       "             pid    yr       age     g_ssr     g_dsr  mdrug07  psick10  \\\n",
       "0     a19k583189  2007 -1.156812 -0.466465 -1.076209      0.0      0.0   \n",
       "1     a19k005666  1998 -1.791254 -0.352054 -0.084153      0.0      0.0   \n",
       "2     a19k143055  2006  0.605526 -0.466465 -0.625275      0.0      0.0   \n",
       "3     a19k057299  2002 -1.156812 -1.152932 -1.617331      0.0      0.0   \n",
       "4     a19k211318  2006 -1.086319 -1.724988 -0.715462      0.0      0.0   \n",
       "...          ...   ...       ...       ...       ...      ...      ...   \n",
       "6330  a19k057364  2005  0.746513  2.336608  1.539211      0.0      0.0   \n",
       "6331  a19k421291  2003  2.015396  2.965870  1.629398      0.0      1.0   \n",
       "6332  a19k284241  1999  0.394045  0.448824  0.547155      0.0      0.0   \n",
       "6333  a19k306046  1999  1.521942  0.849263  0.998090      0.0      0.0   \n",
       "6334  a19k419445  2004  1.521942 -0.025608 -0.023260      0.0      0.0   \n",
       "\n",
       "      psick12  psick11  \n",
       "0         0.0      0.0  \n",
       "1         0.0      0.0  \n",
       "2         0.0      0.0  \n",
       "3         0.0      0.0  \n",
       "4         0.0      0.0  \n",
       "...       ...      ...  \n",
       "6330      0.0      0.0  \n",
       "6331      0.0      0.0  \n",
       "6332      0.0      0.0  \n",
       "6333      0.0      0.0  \n",
       "6334      0.0      0.0  \n",
       "\n",
       "[6335 rows x 9 columns]"
      ]
     },
     "execution_count": 5,
     "metadata": {},
     "output_type": "execute_result"
    }
   ],
   "source": [
    "#將資料normaliztion\n",
    "#重置資料的編號\n",
    "dt_table = dt_table.reset_index(drop = True)\n",
    "\n",
    "from sklearn import preprocessing\n",
    "\n",
    "column_names_to_normalize = ['age', 'g_ssr', 'g_dsr']\n",
    "names = dt_table[column_names_to_normalize].columns\n",
    "\n",
    "scaler = preprocessing.StandardScaler()\n",
    "df_temp = scaler.fit_transform(dt_table[column_names_to_normalize])\n",
    "df_temp = pd.DataFrame(df_temp, columns = names)\n",
    "\n",
    "#合併時，資料的編好不一樣，所以先將編號重整\n",
    "dt_table[column_names_to_normalize] = df_temp\n",
    "dt_table"
   ]
  },
  {
   "cell_type": "code",
   "execution_count": 6,
   "metadata": {
    "scrolled": false
   },
   "outputs": [
    {
     "name": "stdout",
     "output_type": "stream",
     "text": [
      "32\n",
      "32\n"
     ]
    },
    {
     "data": {
      "text/html": [
       "<div>\n",
       "<style scoped>\n",
       "    .dataframe tbody tr th:only-of-type {\n",
       "        vertical-align: middle;\n",
       "    }\n",
       "\n",
       "    .dataframe tbody tr th {\n",
       "        vertical-align: top;\n",
       "    }\n",
       "\n",
       "    .dataframe thead th {\n",
       "        text-align: right;\n",
       "    }\n",
       "</style>\n",
       "<table border=\"1\" class=\"dataframe\">\n",
       "  <thead>\n",
       "    <tr style=\"text-align: right;\">\n",
       "      <th></th>\n",
       "      <th>pid</th>\n",
       "      <th>yr</th>\n",
       "      <th>age</th>\n",
       "      <th>g_ssr</th>\n",
       "      <th>g_dsr</th>\n",
       "      <th>mdrug07</th>\n",
       "      <th>psick10</th>\n",
       "      <th>psick12</th>\n",
       "      <th>psick11</th>\n",
       "    </tr>\n",
       "  </thead>\n",
       "  <tbody>\n",
       "    <tr>\n",
       "      <th>862</th>\n",
       "      <td>a19k464587</td>\n",
       "      <td>2013</td>\n",
       "      <td>1.239968</td>\n",
       "      <td>1.707347</td>\n",
       "      <td>1.358838</td>\n",
       "      <td>0.0</td>\n",
       "      <td>0.0</td>\n",
       "      <td>0.0</td>\n",
       "      <td>0.0</td>\n",
       "    </tr>\n",
       "    <tr>\n",
       "      <th>1169</th>\n",
       "      <td>a19k397982</td>\n",
       "      <td>2010</td>\n",
       "      <td>1.239968</td>\n",
       "      <td>0.734852</td>\n",
       "      <td>1.629398</td>\n",
       "      <td>0.0</td>\n",
       "      <td>0.0</td>\n",
       "      <td>0.0</td>\n",
       "      <td>0.0</td>\n",
       "    </tr>\n",
       "    <tr>\n",
       "      <th>2623</th>\n",
       "      <td>a19k536665</td>\n",
       "      <td>2009</td>\n",
       "      <td>-1.086319</td>\n",
       "      <td>-0.981315</td>\n",
       "      <td>-1.076209</td>\n",
       "      <td>0.0</td>\n",
       "      <td>0.0</td>\n",
       "      <td>0.0</td>\n",
       "      <td>0.0</td>\n",
       "    </tr>\n",
       "    <tr>\n",
       "      <th>1249</th>\n",
       "      <td>a19k374827</td>\n",
       "      <td>2015</td>\n",
       "      <td>-0.310890</td>\n",
       "      <td>-1.724988</td>\n",
       "      <td>-1.436957</td>\n",
       "      <td>0.0</td>\n",
       "      <td>1.0</td>\n",
       "      <td>0.0</td>\n",
       "      <td>0.0</td>\n",
       "    </tr>\n",
       "    <tr>\n",
       "      <th>3984</th>\n",
       "      <td>a19k351043</td>\n",
       "      <td>2009</td>\n",
       "      <td>-0.804345</td>\n",
       "      <td>-1.724988</td>\n",
       "      <td>-1.978078</td>\n",
       "      <td>0.0</td>\n",
       "      <td>0.0</td>\n",
       "      <td>0.0</td>\n",
       "      <td>0.0</td>\n",
       "    </tr>\n",
       "  </tbody>\n",
       "</table>\n",
       "</div>"
      ],
      "text/plain": [
       "             pid    yr       age     g_ssr     g_dsr  mdrug07  psick10  \\\n",
       "862   a19k464587  2013  1.239968  1.707347  1.358838      0.0      0.0   \n",
       "1169  a19k397982  2010  1.239968  0.734852  1.629398      0.0      0.0   \n",
       "2623  a19k536665  2009 -1.086319 -0.981315 -1.076209      0.0      0.0   \n",
       "1249  a19k374827  2015 -0.310890 -1.724988 -1.436957      0.0      1.0   \n",
       "3984  a19k351043  2009 -0.804345 -1.724988 -1.978078      0.0      0.0   \n",
       "\n",
       "      psick12  psick11  \n",
       "862       0.0      0.0  \n",
       "1169      0.0      0.0  \n",
       "2623      0.0      0.0  \n",
       "1249      0.0      0.0  \n",
       "3984      0.0      0.0  "
      ]
     },
     "execution_count": 6,
     "metadata": {},
     "output_type": "execute_result"
    }
   ],
   "source": [
    "#將中風的人挑出來\n",
    "stroke = dt_table[dt_table.psick11 == 1]\n",
    "print(len(stroke))\n",
    "\n",
    "dt_health = dt_table[dt_table.psick11 == 0]\n",
    "#從健康的人中抽取32個資料\n",
    "health = dt_health.sample(n = 32, random_state = 12)\n",
    "print(len(health))\n",
    "health.head()"
   ]
  },
  {
   "cell_type": "code",
   "execution_count": 7,
   "metadata": {
    "scrolled": false
   },
   "outputs": [
    {
     "name": "stdout",
     "output_type": "stream",
     "text": [
      "           age     g_ssr     g_dsr  mdrug07  psick10  psick12\n",
      "862   1.239968  1.707347  1.358838      0.0      0.0      0.0\n",
      "1169  1.239968  0.734852  1.629398      0.0      0.0      0.0\n",
      "2623 -1.086319 -0.981315 -1.076209      0.0      0.0      0.0\n",
      "1249 -0.310890 -1.724988 -1.436957      0.0      1.0      0.0\n",
      "3984 -0.804345 -1.724988 -1.978078      0.0      0.0      0.0\n",
      "...        ...       ...       ...      ...      ...      ...\n",
      "5834  1.592435  0.849263 -0.084153      0.0      0.0      1.0\n",
      "6057  1.310461  2.279403  2.350894      0.0      0.0      0.0\n",
      "6121  0.535032 -0.123232  0.186408      0.0      0.0      0.0\n",
      "6273  2.720332  1.364113 -0.444901      0.0      0.0      1.0\n",
      "6316  1.592435  2.164992  2.350894      0.0      0.0      1.0\n",
      "\n",
      "[64 rows x 6 columns]\n",
      "[0 0 0 0 0 0 0 0 0 0 0 0 0 0 0 0 0 0 0 0 0 0 0 0 0 0 0 0 0 0 0 0 1 1 1 1 1\n",
      " 1 1 1 1 1 1 1 1 1 1 1 1 1 1 1 1 1 1 1 1 1 1 1 1 1 1 1]\n"
     ]
    }
   ],
   "source": [
    "truedf = pd.concat([health, stroke], axis = 0)\n",
    "#將沒有要分析的選項刪除\n",
    "drop = ['pid', 'yr', 'psick11']\n",
    "x_data = truedf.drop(drop, axis = 1)\n",
    "print(x_data)\n",
    "\n",
    "#將資料轉換成array\n",
    "y_data = np.array(truedf['psick11'], dtype = int)\n",
    "print(y_data)"
   ]
  },
  {
   "cell_type": "code",
   "execution_count": 8,
   "metadata": {},
   "outputs": [],
   "source": [
    "########sklearn########\n",
    "#Importing the auxiliar and preprocessing librarys \n",
    "from sklearn.metrics import accuracy_score, confusion_matrix, classification_report\n",
    "from sklearn.model_selection import train_test_split, KFold, cross_validate, cross_val_score\n",
    "from sklearn.preprocessing import LabelEncoder, StandardScaler\n",
    "from sklearn.pipeline import Pipeline\n",
    "from sklearn.feature_selection import SelectFromModel\n",
    "\n",
    "#Models\n",
    "from sklearn.cluster import KMeans\n",
    "from sklearn.decomposition import PCA\n",
    "from sklearn.linear_model import RidgeClassifier, SGDClassifier, LogisticRegression\n",
    "from sklearn.svm import SVC, LinearSVC\n",
    "from sklearn.neighbors import KNeighborsClassifier\n",
    "from sklearn.tree import DecisionTreeClassifier\n",
    "#from xgboost import XGBClassifier\n",
    "from sklearn.naive_bayes import MultinomialNB,GaussianNB\n",
    "from sklearn.ensemble import RandomForestClassifier, GradientBoostingClassifier\\\n",
    ", ExtraTreesClassifier, BaggingClassifier, VotingClassifier, RandomTreesEmbedding\n"
   ]
  },
  {
   "cell_type": "code",
   "execution_count": 9,
   "metadata": {},
   "outputs": [],
   "source": [
    "#將資料做隨機抽取的動作\n",
    "X_train, X_test, y_train, y_test = train_test_split(x_data, y_data, test_size=0.2, random_state=10)\n",
    "\n",
    "clfs = []\n",
    "seed = 12\n",
    "\n",
    "#GaussianNB沒有random state可以調整\n",
    "#其他模型都要設random state，不然每次跑會不一樣\n",
    "clfs.append((\"GaussianNB\", \n",
    "             Pipeline([(\"Scaler\", StandardScaler()),\n",
    "                       (\"GaussianNB\", GaussianNB())])))\n",
    "clfs.append((\"LogReg\", \n",
    "             Pipeline([(\"Scaler\", StandardScaler()),\n",
    "                       (\"LogReg\", LogisticRegression(random_state = 10))])))\n",
    "clfs.append((\"DecisionTreeClassifier\", \n",
    "             Pipeline([(\"Scaler\", StandardScaler()),\n",
    "                       (\"DecisionTrees\", DecisionTreeClassifier(random_state = 10))]))) \n",
    "\n",
    "clfs.append((\"RandomForestClassifier\", \n",
    "             Pipeline([(\"Scaler\", StandardScaler()),\n",
    "                       (\"RandomForest\", RandomForestClassifier(random_state = 10))]))) \n",
    "clfs.append((\"ExtraTreesClassifier\",\n",
    "             Pipeline([(\"Scaler\", StandardScaler()),\n",
    "                      (\"ExtraTrees\", ExtraTreesClassifier(random_state = 10))])))\n",
    "\n",
    "#clfs.append((\"GradientBoostingClassifier\", \n",
    "#             Pipeline([(\"Scaler\", StandardScaler()),\n",
    "#                       (\"GradientBoosting\", GradientBoostingClassifier(n_estimators=10))]))) \n",
    "\n",
    "#clfs.append((\"RidgeClassifier\", \n",
    "#             Pipeline([(\"Scaler\", StandardScaler()),\n",
    "#                       (\"RidgeClassifier\", RidgeClassifier())])))\n",
    "\n",
    "#clfs.append((\"BaggingRidgeClassifier\",\n",
    "#             Pipeline([(\"Scaler\", StandardScaler()),\n",
    "#                       (\"BaggingClassifier\", BaggingClassifier())])))\n",
    "\n",
    "#clfs.append((\"XGBClassifier\",\n",
    "#             Pipeline([(\"Scaler\", StandardScaler()),\n",
    "#                       (\"XGB\", XGBClassifier())]))) \n",
    "#clfs.append((\"KNN\", \n",
    "#             Pipeline([(\"Scaler\", StandardScaler()),\n",
    "#                       (\"KNN\", KNeighborsClassifier())]))) "
   ]
  },
  {
   "cell_type": "code",
   "execution_count": 10,
   "metadata": {
    "scrolled": true
   },
   "outputs": [],
   "source": [
    "#'neg_mean_absolute_error', 'neg_mean_squared_error','r2'\n",
    "scoring = 'accuracy'\n",
    "n_folds = 10\n",
    "\n",
    "results, names, modelname  = [], [] ,['model-name'] \n",
    "from sklearn.metrics import accuracy_score\n",
    "from sklearn.metrics import f1_score\n",
    "from sklearn.metrics import precision_score\n",
    "from sklearn.metrics import recall_score\n",
    "#from sklearn.externals import joblib #存取model\n",
    "import sklearn.externals\n",
    "import joblib\n",
    "from sklearn.metrics import roc_curve, auc\n",
    "from sklearn.metrics import roc_auc_score\n",
    "from joblib import dump, load\n",
    "msgL, accuracyL, f1L, precisionL, recallL  = [], ['accuracy_score'], ['f1_score'], ['precision_score'], ['recall_score']\n"
   ]
  },
  {
   "cell_type": "code",
   "execution_count": 11,
   "metadata": {
    "scrolled": false
   },
   "outputs": [
    {
     "name": "stdout",
     "output_type": "stream",
     "text": [
      "predict  0  1\n",
      "label        \n",
      "0        7  1\n",
      "1        3  2\n",
      "GaussianNB's accuracy : 0.692308\n",
      "GaussianNB: 0.625455 (+/- 0.163070)\n",
      "GaussianNB ok \n"
     ]
    },
    {
     "data": {
      "image/png": "[encoded data removed]",
      "text/plain": [
       "<Figure size 432x288 with 1 Axes>"
      ]
     },
     "metadata": {
      "needs_background": "light"
     },
     "output_type": "display_data"
    },
    {
     "name": "stdout",
     "output_type": "stream",
     "text": [
      "predict  0  1\n",
      "label        \n",
      "0        6  2\n",
      "1        1  4\n",
      "LogReg's accuracy : 0.769231\n",
      "LogReg: 0.709091 (+/- 0.157144)\n",
      "LogReg ok \n"
     ]
    },
    {
     "data": {
      "image/png": "[encoded data removed]",
      "text/plain": [
       "<Figure size 432x288 with 1 Axes>"
      ]
     },
     "metadata": {
      "needs_background": "light"
     },
     "output_type": "display_data"
    },
    {
     "name": "stdout",
     "output_type": "stream",
     "text": [
      "predict  0  1\n",
      "label        \n",
      "0        5  3\n",
      "1        1  4\n",
      "DecisionTreeClassifier's accuracy : 0.692308\n",
      "DecisionTreeClassifier: 0.725455 (+/- 0.074168)\n",
      "DecisionTreeClassifier ok \n"
     ]
    },
    {
     "data": {
      "image/png": "[encoded data removed]",
      "text/plain": [
       "<Figure size 432x288 with 1 Axes>"
      ]
     },
     "metadata": {
      "needs_background": "light"
     },
     "output_type": "display_data"
    },
    {
     "name": "stdout",
     "output_type": "stream",
     "text": [
      "predict  0  1\n",
      "label        \n",
      "0        6  2\n",
      "1        1  4\n",
      "RandomForestClassifier's accuracy : 0.769231\n",
      "RandomForestClassifier: 0.687273 (+/- 0.112463)\n",
      "RandomForestClassifier ok \n"
     ]
    },
    {
     "data": {
      "image/png": "[encoded data removed]",
      "text/plain": [
       "<Figure size 432x288 with 1 Axes>"
      ]
     },
     "metadata": {
      "needs_background": "light"
     },
     "output_type": "display_data"
    },
    {
     "name": "stdout",
     "output_type": "stream",
     "text": [
      "predict  0  1\n",
      "label        \n",
      "0        5  3\n",
      "1        2  3\n",
      "ExtraTreesClassifier's accuracy : 0.615385\n",
      "ExtraTreesClassifier: 0.689091 (+/- 0.081596)\n",
      "ExtraTreesClassifier ok \n"
     ]
    },
    {
     "data": {
      "image/png": "[encoded data removed]",
      "text/plain": [
       "<Figure size 432x288 with 1 Axes>"
      ]
     },
     "metadata": {
      "needs_background": "light"
     },
     "output_type": "display_data"
    }
   ],
   "source": [
    "for name, model  in clfs:\n",
    "    kfold = KFold(n_splits=n_folds, random_state = seed, shuffle = False)\n",
    "    cv_results = cross_val_score(model, X_train, y_train, cv= 5, scoring=scoring, n_jobs=-1)\n",
    "    modelp = model.fit(X_train, y_train)\n",
    "    if name == 'GaussianNB':\n",
    "        #GaussianNBimportances = model.named_steps['GaussianNB'].coef_\n",
    "        y_score=modelp.predict_proba(X_test)[:,1]\n",
    "        clr='Red'\n",
    "    if name == 'LogReg':\n",
    "        LogRegimportances = model.named_steps['LogReg'].coef_\n",
    "        y_score=modelp.decision_function(X_test)\n",
    "        clr='Red'\n",
    "        #joblib.dump(modelp, \"LogReg.sav\")\n",
    "    if name == 'DecisionTreeClassifier':\n",
    "        DecisionTreesimportances = model.named_steps['DecisionTrees'].feature_importances_\n",
    "        y_score=modelp.predict_proba(X_test)[:,1]\n",
    "        #joblib.dump(modelp, \"DecisionTree.sav\")\n",
    "    if name == 'RandomForestClassifier':\n",
    "        RandomForestimportances = model.named_steps['RandomForest'].feature_importances_\n",
    "        y_score=modelp.predict_proba(X_test)[:,1]\n",
    "        clr='Gold'\n",
    "    if name == 'ExtraTreesClassifier':\n",
    "        ExtraTreesimportances = model.named_steps['ExtraTrees'].feature_importances_\n",
    "        y_score=modelp.predict_proba(X_test)[:,1]\n",
    "        \n",
    "#    if name == 'XGBClassifier':\n",
    "#        XGBimportances = model.named_steps['XGB'].feature_importances_\n",
    "#        y_score=modelp.predict_proba(X_test)[:,1]\n",
    "#    if name == 'KNN':\n",
    "#        y_score=modelp.predict_proba(X_test)[:,1]\n",
    "#        clr='Green'\n",
    "#    if name == 'GradientBoostingClassifier':\n",
    "#        GradientBoostingimportances = model.named_steps['GradientBoosting'].feature_importances_\n",
    "#        y_score=modelp.decision_function(X_test)\n",
    "#        clr='yellow'\n",
    "#    if name == 'RidgeClassifier':\n",
    "#        y_score=modelp.decision_function(X_test)\n",
    "#    if name == 'BaggingRidgeClassifier':\n",
    "#        y_score=modelp.predict_proba(X_test)[:,1]\n",
    "\n",
    "    y_preds=modelp.predict(X_test)\n",
    "    accuracyL.append(accuracy_score(y_test, y_preds))\n",
    "    \n",
    "    f1L.append(f1_score(y_test, y_preds, average='binary'))\n",
    "    precisionL.append(precision_score(y_test, y_preds, average='binary'))\n",
    "    recallL.append(recall_score(y_test, y_preds, average='binary'))\n",
    "    \n",
    "    #f1L.append(f1_score(y_test, y_preds,average='weighted'))\n",
    "    #precisionL.append(precision_score(y_test, y_preds,average='weighted'))\n",
    "    #recallL.append(recall_score(y_test, y_preds,average='weighted'))\n",
    "    \n",
    "    #joblib.dump(modelp, 'DET'+ name +'.model')\n",
    "    #print(name)\n",
    "    print(pd.crosstab(y_test, y_preds,rownames=['label'],colnames=['predict']))\n",
    "    \n",
    "    print(\"%s's %s : %.6f\"% (name, \"accuracy\", accuracy_score(y_test, y_preds)))\n",
    "    \n",
    "    #csvdata=np.column_stack((np.array(df_test.PassengerId),y_preds)) \n",
    "    #np.savetxt(name+\".csv\", csvdata, delimiter=\",\",fmt='%d'\\\n",
    "    #           ,header ='PassengerId,Survived',comments='')\n",
    "    names.append(name)\n",
    "    modelname.append(name)\n",
    "    results.append(cv_results)    \n",
    "    msg = \"%s: %f (+/- %f)\" % (name, cv_results.mean(),  cv_results.std())\n",
    "    msgL.append(msg)\n",
    "    print(msg)\n",
    "    print(\"{0} {1} \".format(name,\"ok\"))\n",
    "    \n",
    "    fpr, tpr, _ = roc_curve(y_test.ravel(), y_score.ravel())\n",
    "    roc_auc = auc(fpr, tpr)\n",
    "    \n",
    "    ##############################################################################\n",
    "    # Plot of a ROC curve for a specific class\n",
    "    plt.figure()\n",
    "    lw = 2\n",
    "    plt.plot(fpr, tpr, color=clr, lw=lw, \n",
    "             label = name + 'ROC curve (area = %0.2f)' % roc_auc)\n",
    "    plt.plot([0, 1], [0, 1], color='navy', lw=lw, linestyle='--')\n",
    "    plt.xlim([0.0, 1.0])\n",
    "    plt.ylim([0.0, 1.05])\n",
    "    plt.xlabel('False Positive Rate')\n",
    "    plt.ylabel('True Positive Rate')\n",
    "    plt.title(name+' ROC')\n",
    "    plt.legend(loc=\"lower right\")\n",
    "    plt.show()\n",
    "    #fig_name = \"2.after normalization - \" + str(name) + \".png\"\n",
    "    #plt.savefig(fig_name)\n",
    "    #print(y_score)\n",
    "    #print(\"\\n\")"
   ]
  },
  {
   "cell_type": "code",
   "execution_count": 12,
   "metadata": {},
   "outputs": [
    {
     "data": {
      "text/plain": [
       "[Text(0, 0, 'GaussianNB'),\n",
       " Text(0, 0, 'LogReg'),\n",
       " Text(0, 0, 'DecisionTreeClassifier'),\n",
       " Text(0, 0, 'RandomForestClassifier'),\n",
       " Text(0, 0, 'ExtraTreesClassifier')]"
      ]
     },
     "execution_count": 12,
     "metadata": {},
     "output_type": "execute_result"
    },
    {
     "data": {
      "image/png": "[encoded data removed]",
      "text/plain": [
       "<Figure size 1080x432 with 1 Axes>"
      ]
     },
     "metadata": {
      "needs_background": "light"
     },
     "output_type": "display_data"
    }
   ],
   "source": [
    "importancesname = ['feature','LogReg', 'DecisionTrees', 'RandomForest', 'ExtraTrees']\n",
    "#importancesname=['feature','LogReg','RandomForest','GradientBoosting']\n",
    "\n",
    "importances = [importancesname, LogRegimportances.flatten(), DecisionTreesimportances, \n",
    "               RandomForestimportances, ExtraTreesimportances]\n",
    "#importances=[importancesname,LogRegimportances.flatten(),RandomForestimportances,GradientBoostingimportances]\n",
    "\n",
    "report = [modelname,accuracyL, f1L, precisionL, recallL] \n",
    "import csv\n",
    "with open('report.csv', 'w', newline='') as csvfile:\n",
    "  writer = csv.writer(csvfile)\n",
    "  writer.writerows(report)\n",
    "with open('importances.csv', 'w', newline='') as csvfile:\n",
    "  writer = csv.writer(csvfile)\n",
    "  writer.writerows(importances)\n",
    "  \n",
    "# boxplot algorithm comparison\n",
    "fig = plt.figure(figsize=(15,6))\n",
    "fig.suptitle('Classifier Algorithm Comparison', fontsize = 22)\n",
    "ax = fig.add_subplot(111)\n",
    "sns.boxplot(x = names, y = results)\n",
    "ax.set_xticklabels(names)\n",
    "ax.set_xlabel(\"Algorithmn\", fontsize = 20)\n",
    "ax.set_ylabel(\"Accuracy of Models\", fontsize = 18)\n",
    "ax.set_xticklabels(ax.get_xticklabels(),rotation=45)\n",
    "\n",
    "#plt.savefig(\"2.after normalization - Classifier Algorithm Comparison.png\")"
   ]
  },
  {
   "cell_type": "markdown",
   "metadata": {},
   "source": [
    "## 驗證模型"
   ]
  },
  {
   "cell_type": "code",
   "execution_count": 13,
   "metadata": {},
   "outputs": [],
   "source": [
    "from joblib import dump, load\n",
    "#創造另外的測試集，驗證做好的 model\n",
    "tree_health = dt_health.sample(n = 16, random_state = 8)\n",
    "tree_stroke = stroke.sample(n=16, random_state = 8)\n",
    "\n",
    "df_tree = pd.concat([tree_health, tree_stroke], axis = 0)\n",
    "drop = ['pid', 'yr', 'psick11']\n",
    "xx_test = df_tree.drop(drop, axis = 1)\n",
    "\n",
    "yy_test = np.array(df_tree['psick11'], dtype = int)"
   ]
  },
  {
   "cell_type": "code",
   "execution_count": 14,
   "metadata": {
    "scrolled": false
   },
   "outputs": [
    {
     "name": "stdout",
     "output_type": "stream",
     "text": [
      "[0 0 0 0 0 0 0 0 0 0 0 0 0 0 0 0 0 0 0 0 0 0 0 0 0 0 0 0 0 0 0 0]\n",
      "predict   0\n",
      "label      \n",
      "0        16\n",
      "1        16\n",
      "LogReg's accuracy : 0.5\n",
      "LogReg: 0.809524 (+/- 0.127775)\n"
     ]
    },
    {
     "data": {
      "image/png": "[encoded data removed]",
      "text/plain": [
       "<Figure size 432x288 with 1 Axes>"
      ]
     },
     "metadata": {
      "needs_background": "light"
     },
     "output_type": "display_data"
    }
   ],
   "source": [
    "#讀取LogReg 的 Model\n",
    "Log_model = joblib.load(\"LogReg.sav\")\n",
    "\n",
    "#印出結果\n",
    "L_result = Log_model.predict(xx_test[:])\n",
    "yy_Lscore = Log_model.predict_proba(xx_test)[:,1]\n",
    "yy_Lpreds = Log_model.predict(xx_test)\n",
    "L_acc = accuracy_score(yy_test, yy_Lpreds)\n",
    "L_msg = cross_val_score(Log_model, xx_test, yy_test, cv= 5, scoring=scoring, n_jobs=-1)\n",
    "\n",
    "print(L_result)\n",
    "print(pd.crosstab(yy_test, yy_Lpreds, rownames = ['label'], colnames = ['predict']))\n",
    "print(\"{0}'s accuracy : {1}\".format(\"LogReg\", L_acc))\n",
    "print(\"%s: %f (+/- %f)\" % (\"LogReg\", L_msg.mean(),  L_msg.std()))\n",
    "    \n",
    "    ##############################################################################\n",
    "# Plot of a ROC curve for a specific class\n",
    "L_fpr, L_tpr, _ = roc_curve(yy_test.ravel(), yy_Lscore.ravel())\n",
    "L_roc_auc = auc(L_fpr, L_tpr)\n",
    "plt.figure()\n",
    "lw = 2\n",
    "plt.plot(L_fpr, L_tpr, color=clr, lw=lw,\n",
    "         label = \"LogReg\" + 'ROC curve (area = %0.2f)' % L_roc_auc)\n",
    "plt.plot([0, 1], [0, 1], color='navy', lw=lw, linestyle='--')\n",
    "plt.xlim([0.0, 1.0])\n",
    "plt.ylim([0.0, 1.05])\n",
    "plt.xlabel('False Positive Rate')\n",
    "plt.ylabel('True Positive Rate')\n",
    "plt.title(\"LogReg\" + ' ROC')\n",
    "plt.legend(loc = \"lower right\")\n",
    "plt.show()"
   ]
  },
  {
   "cell_type": "code",
   "execution_count": 15,
   "metadata": {},
   "outputs": [
    {
     "name": "stdout",
     "output_type": "stream",
     "text": [
      "[0 0 0 0 0 0 0 0 0 0 0 0 0 0 0 0 0 0 0 0 0 0 0 0 0 0 0 0 0 0 0 0]\n",
      "predict   0\n",
      "label      \n",
      "0        16\n",
      "1        16\n",
      "DecisionTree's accuracy : 0.5\n",
      "LogReg: 0.938095 (+/- 0.076190)\n"
     ]
    },
    {
     "data": {
      "image/png": "[encoded data removed]",
      "text/plain": [
       "<Figure size 432x288 with 1 Axes>"
      ]
     },
     "metadata": {
      "needs_background": "light"
     },
     "output_type": "display_data"
    }
   ],
   "source": [
    "#讀取DecisionTree 的 Model\n",
    "Decision_model = joblib.load(\"DecisionTree.sav\")\n",
    "\n",
    "#印出結果\n",
    "Dec_result = Decision_model.predict(xx_test[:])\n",
    "yy_Dec_score = Decision_model.predict_proba(xx_test)[:,1]\n",
    "yy_Dec_preds = Decision_model.predict(xx_test)\n",
    "Dec_acc = accuracy_score(yy_test, yy_Dec_preds)\n",
    "Dec_msg = cross_val_score(Decision_model, xx_test, yy_test, cv= 5, scoring=scoring, n_jobs=-1)\n",
    "\n",
    "print(Dec_result)\n",
    "print(pd.crosstab(yy_test, yy_Dec_preds, rownames = ['label'], colnames = ['predict']))\n",
    "print(\"{0}'s accuracy : {1}\".format(\"DecisionTree\", Dec_acc))\n",
    "print(\"%s: %f (+/- %f)\" % (\"LogReg\", Dec_msg.mean(),  Dec_msg.std()))\n",
    "\n",
    "    ##############################################################################\n",
    "# Plot of a ROC curve for a specific class\n",
    "Dec_fpr, Dec_tpr, _ = roc_curve(yy_test.ravel(), yy_Dec_score.ravel())\n",
    "Dec_roc_auc = auc(Dec_fpr, Dec_tpr)\n",
    "plt.figure()\n",
    "lw = 2\n",
    "plt.plot(Dec_fpr, Dec_tpr, color=clr, lw=lw,\n",
    "         label = \"DecisionTree\" + 'ROC curve (area = %0.2f)' % Dec_roc_auc)\n",
    "plt.plot([0, 1], [0, 1], color='navy', lw=lw, linestyle='--')\n",
    "plt.xlim([0.0, 1.0])\n",
    "plt.ylim([0.0, 1.05])\n",
    "plt.xlabel('False Positive Rate')\n",
    "plt.ylabel('True Positive Rate')\n",
    "plt.title(\"DecisionTree\" + ' ROC')\n",
    "plt.legend(loc = \"lower right\")\n",
    "plt.show()"
   ]
  },
  {
   "cell_type": "code",
   "execution_count": null,
   "metadata": {},
   "outputs": [],
   "source": []
  },
  {
   "cell_type": "code",
   "execution_count": null,
   "metadata": {},
   "outputs": [],
   "source": []
  }
 ],
 "metadata": {
  "kernelspec": {
   "display_name": "Python 3",
   "language": "python",
   "name": "python3"
  },
  "language_info": {
   "codemirror_mode": {
    "name": "ipython",
    "version": 3
   },
   "file_extension": ".py",
   "mimetype": "text/x-python",
   "name": "python",
   "nbconvert_exporter": "python",
   "pygments_lexer": "ipython3",
   "version": "3.8.3"
  }
 },
 "nbformat": 4,
 "nbformat_minor": 4
}
