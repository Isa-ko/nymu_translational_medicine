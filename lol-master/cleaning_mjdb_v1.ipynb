{
 "cells": [
  {
   "cell_type": "code",
   "execution_count": 26,
   "metadata": {},
   "outputs": [],
   "source": [
    "import pandas as pd\n",
    "import numpy as np\n",
    "import time"
   ]
  },
  {
   "cell_type": "code",
   "execution_count": 27,
   "metadata": {},
   "outputs": [],
   "source": [
    "def cleaning(df):\n",
    "\n",
    "    #select the desired columns\n",
    "    df=df[['pid','yr','age','gender','g_hei','g_wei','g_bmi','g_ssr','drinkornot_96','drinkornot_97','drinkornot_98','drinkornot_17','psick09','psick10','psick11','mdrug07']]\n",
    "    \n",
    "    #cleaning each column\n",
    "    #for numeric data, value out of selected range would be set as -999, null stays null\n",
    "    #for categorical data, value out of options, including null, would be labeled as Z\n",
    "    \n",
    "    #age\n",
    "    for i in range(len(df)):\n",
    "        if df.loc[i,'age'] <0 or df.loc[i,'age'] >100:\n",
    "            df.loc[i,'age']=-999\n",
    "    \n",
    "    #gender to category\n",
    "    for i in range(len(df)):\n",
    "        if df.loc[i,'gender'] not in [1,2] and df.loc[i,'gender']+1==True:\n",
    "            df.loc[i,'gender']='Z'\n",
    "\n",
    "    #g_hei to float with one decimal\n",
    "    for i in range(len(df)):\n",
    "        if df.loc[i,'g_hei'] <0 or df.loc[i,'g_hei'] >200:\n",
    "            df.loc[i,'g_hei']=-999\n",
    "    df.loc[:,'g_hei']=df.loc[:,'g_hei'].round(1)\n",
    "\n",
    "    #g_wei to float with one decimal\n",
    "    for i in range(len(df)):\n",
    "        if df.loc[i,'g_wei'] <0 or df.loc[i,'g_wei'] >150:\n",
    "            df.loc[i,'g_wei']=-999\n",
    "    df.loc[:,'g_wei']=df.loc[:,'g_wei'].round(1)\n",
    "    \n",
    "    #g_bmi to float with one decimal\n",
    "    for i in range(len(df)):\n",
    "        if df.loc[i,'g_bmi'] <0 or df.loc[i,'g_bmi'] >50:\n",
    "            df.loc[i,'g_bmi']=-999\n",
    "    df.loc[:,'g_bmi']=df.loc[:,'g_bmi'].round(1)\n",
    "    \n",
    "    #g_ssr to float with one decimal\n",
    "    for i in range(len(df)):\n",
    "        if df.loc[i,'g_ssr'] <60 or df.loc[i,'g_ssr'] >300:\n",
    "            df.loc[i,'g_ssr']=-999\n",
    "    df.loc[:,'g_ssr']=df.loc[:,'g_ssr'].round(1)\n",
    "\n",
    "    #combine the 4 different drinkornot, since their choices are quite similar\n",
    "    df.loc[:,'drinkornot']=df.loc[:,'drinkornot_98'].combine_first(df.loc[:,'drinkornot_97']).combine_first(df.loc[:,'drinkornot_96']).combine_first(df.loc[:,'drinkornot_17'])\n",
    "\n",
    "    for i in range(len(df)):\n",
    "        if df.loc[i,'drinkornot'] not in [1,2,3,4,5] and df.loc[i,'drinkornot']+1==True:\n",
    "            df.loc[i,'drinkornot']='Z'\n",
    "\n",
    "    #psick09 to category\n",
    "    for i in range(len(df)):\n",
    "        if df.loc[i,'psick09'] not in [0,1] and df.loc[i,'psick09']+1==True:\n",
    "            df.loc[i,'psick09']='Z'\n",
    "\n",
    "    #psick10 to category\n",
    "    for i in range(len(df)):\n",
    "        if df.loc[i,'psick10'] not in [0,1] and df.loc[i,'psick10']+1==True:\n",
    "            df.loc[i,'psick10']='Z'\n",
    "\n",
    "    #psick11 to category\n",
    "    for i in range(len(df)):\n",
    "        if df.loc[i,'psick11'] not in [0,1] and df.loc[i,'psick11']+1==True:\n",
    "            df.loc[i,'psick11']='Z'\n",
    "\n",
    "    #mdrug07 to category\n",
    "    for i in range(len(df)):\n",
    "        if df.loc[i,'mdrug07'] not in [0,1] and df.loc[i,'mdrug07']+1==True:\n",
    "            df.loc[i,'mdrug07']='Z'\n",
    "\n",
    "    df=df[['pid','yr','age','gender','g_hei','g_wei','g_bmi','g_ssr','drinkornot','psick09','psick10','psick11','mdrug07']]\n",
    "    \n",
    "    return df"
   ]
  },
  {
   "cell_type": "code",
   "execution_count": 32,
   "metadata": {},
   "outputs": [],
   "source": [
    "def read_me(path,filename,df):\n",
    "    Info=\"\"\"\n",
    "    {filename} is cleaned on {time}, by cleaning_mjdb_v1.py\\n\n",
    "    The data was downloaded from meijao database, including {rows} samples(rows).\\n\n",
    "    {columns} variants(columns) had been selected and cleaned.\\n\n",
    "    \n",
    "    \\\\\\\\\\\\\\\\\\\\\\\\\\\\\\\\\\\\\\\\\\\\\\\\\\\\\\\\\\\\\\\\\\\\\\\\\\\\\\\\\\\\\\\\\\\\\\\\\\\\\\\\\\\\\\\\\\\\\\\\\\\\\\\\\\\\\\\\\\\\\\\\\\\\\\\\\\\\\\\\\\\\\\\\\\\\\\\\\\\\\\\\\\\\\\\\\\\\\\\\\\\\\\\\\\\\\\\\\\\\\\\\\\\\\\\\\\\\\\\\\\\\\\\\\\\\\\\\\\\\\\\\\\\\\\\\\\\\\\\\\\\\\\\\\\\\\\\\\\\\\\\\\\\\\\\\\\\\\\\\\\\\\\\\\\\\\\\\\\\\\\\\\\\\\\\\\\\\\\\\\\\\\\\\\\\\\\\\\\\\\\\\\\\\\\\\\\\\\\\\\\\\\\\\\\\\\\\\\\\\\\\\\\\\\\\\\\\\\\\\\\\\\\\\\\\\\\\\\\\\\\\\\\\\\\\\\\\\\\\\\\\\\\n\n",
    "    \n",
    "    All null values were kept null.\\n\n",
    "    For numeric data, values out of selected range were set to -999.\\n\n",
    "    For categorical data, values out of selected categories were labeled as Z.\\n\n",
    "    \n",
    "    \"pid\" representing \"patient id\" was kept.\\n\n",
    "    \"yr\" representing \"year\" was kept.\\n\n",
    "    \"age\" representing \"patient age\" was treated as numeric data, 0 < age <= 100.\\n\n",
    "    \"gender\" representing \"patient gender\" was treated as categorical data, (1): male, (2): female.\\n\n",
    "    \"g_hei\" representing \"patient height\" was treated as numeric data, 0 < g_hei <= 200.\\n\n",
    "    \"g_wei\" representing \"patient weight\" was treated as numeric data, 0 < g_wei <= 150.\\n\n",
    "    \"g_bmi\" representing \"patient bmi\" was treated as numeric data, 0 < g_bmi <= 50.\\n\n",
    "    \"g_ssr\" representing \"right hand systolic blood pressure\" was treated as numeric data, 60 < g_ssr <= 300.\\n\n",
    "    \n",
    "    \"drinkornot_96\" representing \"How often do you drink?\" was treated as categorical data, (1): never or almost never, (2): has quit alcohol now, (3)sometimes, (4) often, (5) everyday.\\n\n",
    "    \"drinkornot_97\", \"drinkornot_98\", \"drinkornot_17\" all representing \"How often do you drink weekly?\" were treated as categorical data, (1): never or less than 1, (2): has quit alcohol now, (3)once or twice, (4) 3-4 times, (5) everyday.\\n\n",
    "    The 4 mentioned above were combined to one category \"drinkornot\" since most of them have similar standard.\\n\n",
    "    \n",
    "    \"psick09\" representing \"Have you been diagnosed with high blood pressure\" was treated as categorical data, (0): no, (1): yes.\\n\n",
    "    \"psick10\" representing \"Have you been diagnosed with diabetes?\" was treated as categorical data, (0): no, (1): yes.\\n\n",
    "    \"psick11\" representing \"Have you been diagnosed with stroke?\" was treated as categorical data, (0): no, (1): yes.\\n\n",
    "    \n",
    "    \"mdrug07\" representing \"Have you been taking hyperlipidemia drugs\" was treated as categorical data, (0): no, (1): yes.\\n\n",
    "    This column was selected to indicate whether the patient is diagnosed with hyperlipidemia, since the exact question  only exists in the 2017 version.\\n\n",
    "    \"\"\".format(filename=filename, time=time.asctime(time.localtime()), rows=len(df), columns=len(df.columns))\n",
    "    f=open(path+\"readme.txt\", \"w\")\n",
    "    f.write(Info)\n",
    "    f.close()"
   ]
  },
  {
   "cell_type": "code",
   "execution_count": 33,
   "metadata": {},
   "outputs": [],
   "source": [
    "def main(path:str,rawfile:str):\n",
    "    df=pd.read_csv(path+rawfile,index_col=0)\n",
    "    df=cleaning(df)\n",
    "    filename=rawfile[:-8]+'_cleaned.csv'\n",
    "    df.to_csv(path+filename)\n",
    "    read_me(path,filename,df)"
   ]
  },
  {
   "cell_type": "code",
   "execution_count": 34,
   "metadata": {},
   "outputs": [],
   "source": [
    "path='c:/Users/s9304/downloads/'\n",
    "rawfile='mjdb_14000_data_raw.csv'"
   ]
  },
  {
   "cell_type": "code",
   "execution_count": 35,
   "metadata": {},
   "outputs": [],
   "source": [
    "main(path,rawfile)"
   ]
  },
  {
   "cell_type": "code",
   "execution_count": null,
   "metadata": {},
   "outputs": [],
   "source": []
  },
  {
   "cell_type": "code",
   "execution_count": null,
   "metadata": {},
   "outputs": [],
   "source": []
  },
  {
   "cell_type": "code",
   "execution_count": null,
   "metadata": {},
   "outputs": [],
   "source": []
  }
 ],
 "metadata": {
  "kernelspec": {
   "display_name": "Python 3",
   "language": "python",
   "name": "python3"
  },
  "language_info": {
   "codemirror_mode": {
    "name": "ipython",
    "version": 3
   },
   "file_extension": ".py",
   "mimetype": "text/x-python",
   "name": "python",
   "nbconvert_exporter": "python",
   "pygments_lexer": "ipython3",
   "version": "3.7.3"
  }
 },
 "nbformat": 4,
 "nbformat_minor": 2
}
